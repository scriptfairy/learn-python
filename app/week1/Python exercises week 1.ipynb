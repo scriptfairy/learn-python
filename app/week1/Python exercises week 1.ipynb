{
 "cells": [
  {
   "cell_type": "markdown",
   "id": "a69a12f8",
   "metadata": {},
   "source": [
    "# Exercises - Week 1"
   ]
  },
  {
   "cell_type": "markdown",
   "id": "f1d19cce",
   "metadata": {},
   "source": [
    "## Purpose\n",
    "The purpose of these exercises is to get familiar with how python works, with or without needing to import libraries. This set of exercises will help guide you to use basic python operations, and create functions."
   ]
  },
  {
   "cell_type": "markdown",
   "id": "8226293a",
   "metadata": {},
   "source": [
    "## Exercise 0\n",
    "\n",
    "Print \"Hello World!\"\n",
    "\n",
    "**Hint**: You'll need to use Python's **print** function"
   ]
  },
  {
   "cell_type": "code",
   "execution_count": 1,
   "id": "252487f3",
   "metadata": {},
   "outputs": [
    {
     "name": "stdout",
     "output_type": "stream",
     "text": [
      "Hello World\n"
     ]
    }
   ],
   "source": [
    "# Insert your answer below:\n",
    "print(\"Hello World\")\n"
   ]
  },
  {
   "cell_type": "markdown",
   "id": "06ba2be5",
   "metadata": {},
   "source": [
    "## Exercise 1\n",
    "\n",
    "Multiply 5 by 7\n",
    "\n",
    "- You may or may not save this as a variable. Up to you"
   ]
  },
  {
   "cell_type": "code",
   "execution_count": 2,
   "id": "d934f51f",
   "metadata": {},
   "outputs": [
    {
     "data": {
      "text/plain": [
       "35"
      ]
     },
     "execution_count": 2,
     "metadata": {},
     "output_type": "execute_result"
    }
   ],
   "source": [
    "# Insert your answer below:\n",
    "5*7\n"
   ]
  },
  {
   "cell_type": "markdown",
   "id": "6d60ecf1",
   "metadata": {},
   "source": [
    "## Exercise 2\n",
    "\n",
    "Multiply 5 by 7 then square-root the result\n",
    "\n",
    "- You may or may not save this as a variable. Up to you"
   ]
  },
  {
   "cell_type": "code",
   "execution_count": 5,
   "id": "fdde58f3",
   "metadata": {},
   "outputs": [
    {
     "data": {
      "text/plain": [
       "5.916079783099616"
      ]
     },
     "execution_count": 5,
     "metadata": {},
     "output_type": "execute_result"
    }
   ],
   "source": [
    "# Insert your answer below:\n",
    "import math\n",
    "math.sqrt(7*5)\n"
   ]
  },
  {
   "cell_type": "markdown",
   "id": "70165712",
   "metadata": {},
   "source": [
    "## Exercise 3\n",
    "\n",
    "Create a list of 10 random numbers\n",
    "\n",
    "**Hint**: You will need to look up how to generate a random 10 numbers first, then save those numbers into a list. Alternatively, create an empty list first, then fill it with 10 random numbers"
   ]
  },
  {
   "cell_type": "code",
   "execution_count": 14,
   "id": "e4d133e1",
   "metadata": {},
   "outputs": [
    {
     "name": "stdout",
     "output_type": "stream",
     "text": [
      "[0.47210744852033526, 0.21422089930381627, 0.845417950909136, 0.10685550129418298, 0.9069288151221366, 0.029400662509229125, 0.23299574423136837, 0.541099860425506, 0.15144883383844976, 0.8939941505451673]\n"
     ]
    }
   ],
   "source": [
    "# Insert your answer below:\n",
    "import random\n",
    "mylist = []\n",
    "for i in range(1, 11):\n",
    "    mylist.append(random.random())\n",
    "print(mylist)"
   ]
  },
  {
   "cell_type": "markdown",
   "id": "e2a42b0a",
   "metadata": {},
   "source": [
    "## Exercise 4\n",
    "\n",
    "Sort the above list in descending order.\n",
    "\n",
    "- Don't do this manually! There is a Python function for this"
   ]
  },
  {
   "cell_type": "code",
   "execution_count": 15,
   "id": "5ea2c845",
   "metadata": {},
   "outputs": [
    {
     "data": {
      "text/plain": [
       "63"
      ]
     },
     "execution_count": 15,
     "metadata": {},
     "output_type": "execute_result"
    }
   ],
   "source": [
    "# Insert your answer below:\n",
    "9*7\n"
   ]
  },
  {
   "cell_type": "markdown",
   "id": "fd03b11a",
   "metadata": {},
   "source": [
    "## Exercise 5\n",
    "\n",
    "Convert every item in the above list into a percentage out of 100 \n",
    "\n",
    "- doesn't matter if the percentage is over 100, under 100, or negative"
   ]
  },
  {
   "cell_type": "code",
   "execution_count": 9,
   "id": "bdf73b06",
   "metadata": {},
   "outputs": [],
   "source": [
    "# Insert your answer below:\n",
    "\n"
   ]
  },
  {
   "cell_type": "markdown",
   "id": "4c641752",
   "metadata": {},
   "source": [
    "## Exercise 6\n",
    "\n",
    "Create a list of 10 random strings of different lengths. You can use city or country names, proper names, animals, anything!"
   ]
  },
  {
   "cell_type": "code",
   "execution_count": 10,
   "id": "b208963f",
   "metadata": {},
   "outputs": [],
   "source": [
    "# Insert your answer below:\n",
    "\n"
   ]
  },
  {
   "cell_type": "markdown",
   "id": "2a41637a",
   "metadata": {},
   "source": [
    "## Exercise 7\n",
    "\n",
    "Create a function to sort the list above alphabetically\n",
    "\n",
    "- This question needs you to create your own function, which has a sorting mechanism within it. You may need to look this up"
   ]
  },
  {
   "cell_type": "code",
   "execution_count": 11,
   "id": "9aed6153",
   "metadata": {},
   "outputs": [],
   "source": [
    "# Insert your answer below:\n",
    "\n"
   ]
  },
  {
   "cell_type": "markdown",
   "id": "6aff9782",
   "metadata": {},
   "source": [
    "## Exercise 8\n",
    "\n",
    "Create a function to count the vowels in each word in your list\n",
    "\n",
    "- As with Exercise 7, you will need to make your own function"
   ]
  },
  {
   "cell_type": "code",
   "execution_count": 12,
   "id": "d2354e70",
   "metadata": {},
   "outputs": [],
   "source": [
    "# Insert your answer below:\n",
    "\n"
   ]
  },
  {
   "cell_type": "markdown",
   "id": "d99d3ef8",
   "metadata": {},
   "source": [
    "## Exercise 9\n",
    "\n",
    "Write a function in Python that accepts a credit card number. It should return a string where all the characters are hidden with an asterisk except the last four. For example, if the function gets sent \"123456789\", then it should return “6789”"
   ]
  },
  {
   "cell_type": "code",
   "execution_count": 13,
   "id": "0c0f8c3c",
   "metadata": {},
   "outputs": [],
   "source": [
    "# Insert your answer below:\n",
    "\n"
   ]
  },
  {
   "cell_type": "markdown",
   "id": "6292e58b",
   "metadata": {},
   "source": [
    "## Exercise 10\n",
    "\n",
    "Write a Python function that accepts three parameters. The first parameter is an integer. The second is one of the following mathematical operators: +, -, /, or . The third parameter will also be an integer.\n",
    "\n",
    "The function should perform a calculation and return the results. For example, if the function is passed 6 and 4, it should return 24."
   ]
  },
  {
   "cell_type": "code",
   "execution_count": 14,
   "id": "31cc34e7",
   "metadata": {},
   "outputs": [],
   "source": [
    "# Insert your answer below:\n",
    "\n"
   ]
  },
  {
   "cell_type": "markdown",
   "id": "303f3624",
   "metadata": {},
   "source": [
    "## Exercise 11\n",
    "\n",
    "Create a function in Python that accepts two parameters. The first should be the full price of an item as an integer. The second should be the discount percentage as an integer.\n",
    "\n",
    "The function should return the price of the item after the discount has been applied. For example, if the price is 100 and the discount is 20, the function should return 80."
   ]
  },
  {
   "cell_type": "code",
   "execution_count": 15,
   "id": "cd2df7c1",
   "metadata": {},
   "outputs": [],
   "source": [
    "# Insert your answer below:\n",
    "\n"
   ]
  },
  {
   "cell_type": "markdown",
   "id": "5a3a7e09",
   "metadata": {},
   "source": [
    "## Exercise 12\n",
    "\n",
    "Write a function in Python that accepts a list of any length that contains a mix of non-negative integers and strings. The function should return a list with only the integers in the original list in the same order."
   ]
  },
  {
   "cell_type": "code",
   "execution_count": 16,
   "id": "8d2d9bec",
   "metadata": {},
   "outputs": [],
   "source": [
    "# Insert your answer below:\n",
    "\n"
   ]
  },
  {
   "cell_type": "markdown",
   "id": "6b018988",
   "metadata": {},
   "source": [
    "## Exercise 13\n",
    "\n",
    "Create a Python function that accepts a string. The function should return a string, with each character in the original string doubled. If you send the function “now” as a parameter, it should return “nnooww,” and if you send “123a!”, it should return “112233aa!!”."
   ]
  },
  {
   "cell_type": "code",
   "execution_count": 17,
   "id": "a558548b",
   "metadata": {},
   "outputs": [],
   "source": [
    "# Insert your answer below:\n",
    "\n"
   ]
  }
 ],
 "metadata": {
  "kernelspec": {
   "display_name": "Python 3 (ipykernel)",
   "language": "python",
   "name": "python3"
  },
  "language_info": {
   "codemirror_mode": {
    "name": "ipython",
    "version": 3
   },
   "file_extension": ".py",
   "mimetype": "text/x-python",
   "name": "python",
   "nbconvert_exporter": "python",
   "pygments_lexer": "ipython3",
   "version": "3.10.10"
  }
 },
 "nbformat": 4,
 "nbformat_minor": 5
}
